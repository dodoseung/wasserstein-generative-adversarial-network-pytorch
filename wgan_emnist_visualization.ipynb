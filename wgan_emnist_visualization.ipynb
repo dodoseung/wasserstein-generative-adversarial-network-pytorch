{
 "cells": [
  {
   "cell_type": "code",
   "execution_count": 1,
   "metadata": {},
   "outputs": [
    {
     "name": "stderr",
     "output_type": "stream",
     "text": [
      "/home/seungwon/anaconda3/envs/cv/lib/python3.8/site-packages/tqdm/auto.py:21: TqdmWarning: IProgress not found. Please update jupyter and ipywidgets. See https://ipywidgets.readthedocs.io/en/stable/user_install.html\n",
      "  from .autonotebook import tqdm as notebook_tqdm\n"
     ]
    }
   ],
   "source": [
    "from wgan import WGAN\n",
    "\n",
    "import torch\n",
    "import matplotlib.pyplot as plt\n",
    "import numpy as np\n",
    "\n",
    "from utils import load_model, load_yaml"
   ]
  },
  {
   "cell_type": "code",
   "execution_count": 9,
   "metadata": {},
   "outputs": [
    {
     "name": "stdout",
     "output_type": "stream",
     "text": [
      "Load the yaml file from /home/seungwon/Projects/deep-learning-projects/cv-07-wasserstein-generative-adversarial-network-pytorch/config/wgan_config.yml\n",
      "Loaded the model from /home/seungwon/Projects/deep-learning-projects/cv-07-wasserstein-generative-adversarial-network-pytorch/models/emnist/2023.07.21.15.11.59/emnist_last.pt successfully\n",
      "WGAN(\n",
      "  (G): Generator(\n",
      "    (fc): Linear(in_features=100, out_features=3136, bias=True)\n",
      "    (dropout): Dropout(p=0.1, inplace=False)\n",
      "    (conv): ModuleList(\n",
      "      (0): Sequential(\n",
      "        (0): ConvTranspose2d(64, 64, kernel_size=(2, 2), stride=(2, 2))\n",
      "        (1): Conv2d(64, 128, kernel_size=(5, 5), stride=(1, 1), padding=(2, 2))\n",
      "        (2): BatchNorm2d(128, eps=1e-05, momentum=0.1, affine=True, track_running_stats=True)\n",
      "        (3): ReLU()\n",
      "      )\n",
      "      (1): Sequential(\n",
      "        (0): ConvTranspose2d(128, 128, kernel_size=(2, 2), stride=(2, 2))\n",
      "        (1): Conv2d(128, 64, kernel_size=(5, 5), stride=(1, 1), padding=(2, 2))\n",
      "        (2): BatchNorm2d(64, eps=1e-05, momentum=0.1, affine=True, track_running_stats=True)\n",
      "        (3): ReLU()\n",
      "      )\n",
      "      (2): Sequential(\n",
      "        (0): ConvTranspose2d(64, 64, kernel_size=(1, 1), stride=(1, 1))\n",
      "        (1): Conv2d(64, 64, kernel_size=(5, 5), stride=(1, 1), padding=(2, 2))\n",
      "        (2): BatchNorm2d(64, eps=1e-05, momentum=0.1, affine=True, track_running_stats=True)\n",
      "        (3): ReLU()\n",
      "      )\n",
      "      (3): Sequential(\n",
      "        (0): ConvTranspose2d(64, 64, kernel_size=(1, 1), stride=(1, 1))\n",
      "        (1): Conv2d(64, 1, kernel_size=(5, 5), stride=(1, 1), padding=(2, 2))\n",
      "        (2): BatchNorm2d(1, eps=1e-05, momentum=0.1, affine=True, track_running_stats=True)\n",
      "        (3): ReLU()\n",
      "      )\n",
      "    )\n",
      "  )\n",
      "  (C): Critic(\n",
      "    (conv): ModuleList(\n",
      "      (0): Sequential(\n",
      "        (0): Conv2d(1, 64, kernel_size=(5, 5), stride=(2, 2), padding=(2, 2))\n",
      "        (1): BatchNorm2d(64, eps=1e-05, momentum=0.1, affine=True, track_running_stats=True)\n",
      "        (2): ReLU()\n",
      "        (3): Dropout(p=0.4, inplace=False)\n",
      "      )\n",
      "      (1): Sequential(\n",
      "        (0): Conv2d(64, 64, kernel_size=(5, 5), stride=(2, 2), padding=(2, 2))\n",
      "        (1): BatchNorm2d(64, eps=1e-05, momentum=0.1, affine=True, track_running_stats=True)\n",
      "        (2): ReLU()\n",
      "        (3): Dropout(p=0.4, inplace=False)\n",
      "      )\n",
      "      (2): Sequential(\n",
      "        (0): Conv2d(64, 128, kernel_size=(5, 5), stride=(2, 2), padding=(2, 2))\n",
      "        (1): BatchNorm2d(128, eps=1e-05, momentum=0.1, affine=True, track_running_stats=True)\n",
      "        (2): ReLU()\n",
      "        (3): Dropout(p=0.4, inplace=False)\n",
      "      )\n",
      "      (3): Sequential(\n",
      "        (0): Conv2d(128, 128, kernel_size=(5, 5), stride=(1, 1), padding=(2, 2))\n",
      "        (1): BatchNorm2d(128, eps=1e-05, momentum=0.1, affine=True, track_running_stats=True)\n",
      "        (2): ReLU()\n",
      "        (3): Dropout(p=0.4, inplace=False)\n",
      "      )\n",
      "    )\n",
      "    (pool): AdaptiveAvgPool2d(output_size=1)\n",
      "    (fc): Linear(in_features=128, out_features=1, bias=True)\n",
      "  )\n",
      ")\n"
     ]
    }
   ],
   "source": [
    "# Set the configuration\n",
    "config = load_yaml(\"/home/seungwon/Projects/deep-learning-projects/cv-07-wasserstein-generative-adversarial-network-pytorch/config/wgan_config.yml\")\n",
    "\n",
    "# Training setting\n",
    "device = 'cuda' if torch.cuda.is_available() else 'cpu'\n",
    "torch.manual_seed(config['data']['seed'])\n",
    "if device == 'cuda':\n",
    "  torch.cuda.manual_seed_all(config['data']['seed'])\n",
    "\n",
    "# Set the model\n",
    "model = WGAN(gen_latent_z=config['model']['gen_latent_z'], gen_init_layer=config['model']['gen_init_layer'],\n",
    "            gen_conv_trans=config['model']['gen_conv_trans'], gen_conv_filters=config['model']['gen_conv_filters'],\n",
    "            gen_conv_kernels=config['model']['gen_conv_kernels'], gen_conv_strides=config['model']['gen_conv_strides'],\n",
    "            gen_conv_pads=config['model']['gen_conv_pads'],gen_dropout_rate=config['model']['gen_dropout_rate'],\n",
    "            crt_input_img=config['model']['crt_input_img'], crt_conv_filters=config['model']['crt_conv_filters'],\n",
    "            crt_conv_kernels=config['model']['crt_conv_kernels'], crt_conv_strides=config['model']['crt_conv_strides'],\n",
    "            crt_conv_pads=config['model']['crt_conv_pads'], crt_dropout_rate=config['model']['crt_dropout_rate']).to(device)\n",
    "model, _, _, _ = load_model('/home/seungwon/Projects/deep-learning-projects/cv-07-wasserstein-generative-adversarial-network-pytorch/models/emnist/2023.07.21.15.11.59/emnist_last.pt', model)\n",
    "print(model)"
   ]
  },
  {
   "cell_type": "code",
   "execution_count": 10,
   "metadata": {},
   "outputs": [
    {
     "data": {
      "image/png": "[encoded data removed]",
      "text/plain": [
       "<Figure size 1500x300 with 10 Axes>"
      ]
     },
     "metadata": {},
     "output_type": "display_data"
    }
   ],
   "source": [
    "n_to_show = 10\n",
    "z_latent = config['model']['gen_latent_z']\n",
    "np.random.seed(777)\n",
    "\n",
    "fig = plt.figure(figsize=(15, 3))\n",
    "fig.subplots_adjust(hspace=0.4, wspace=0.4)\n",
    "model.eval()\n",
    "\n",
    "z = 2 * torch.rand(n_to_show, z_latent, device=device) - 1\n",
    "img = model.G(z)\n",
    "\n",
    "for i in range(n_to_show):     \n",
    "    sub = fig.add_subplot(1, n_to_show, i+1)\n",
    "    sub.axis('off')\n",
    "    sub.imshow(img[i].squeeze(0).cpu().detach().numpy(), cmap='gray_r')\n"
   ]
  },
  {
   "cell_type": "code",
   "execution_count": null,
   "metadata": {},
   "outputs": [],
   "source": []
  }
 ],
 "metadata": {
  "kernelspec": {
   "display_name": "cv",
   "language": "python",
   "name": "python3"
  },
  "language_info": {
   "codemirror_mode": {
    "name": "ipython",
    "version": 3
   },
   "file_extension": ".py",
   "mimetype": "text/x-python",
   "name": "python",
   "nbconvert_exporter": "python",
   "pygments_lexer": "ipython3",
   "version": "3.8.13"
  },
  "orig_nbformat": 4
 },
 "nbformat": 4,
 "nbformat_minor": 2
}
